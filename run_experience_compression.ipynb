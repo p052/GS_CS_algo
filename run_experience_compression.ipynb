{
 "cells": [
  {
   "cell_type": "code",
   "execution_count": 1,
   "id": "dc5fe218",
   "metadata": {},
   "outputs": [],
   "source": [
    "import matplotlib.pyplot as plt\n",
    "from python import OptimGSCS, model\n",
    "import numpy as np\n",
    "from copy import deepcopy\n",
    "import logging\n",
    "log_file = 'logs_compression_test.log'\n",
    "open(log_file, 'w').close()\n",
    "logging.basicConfig(filename=log_file, level=logging.INFO)\n",
    "\n",
    "from importlib import reload"
   ]
  },
  {
   "cell_type": "code",
   "execution_count": 2,
   "id": "6cd3a4d5",
   "metadata": {},
   "outputs": [],
   "source": [
    "m = model.model_pruning('poids/model0.keras')\n",
    "a = m.current_weights"
   ]
  },
  {
   "cell_type": "code",
   "execution_count": 3,
   "id": "c2c60b35",
   "metadata": {},
   "outputs": [],
   "source": [
    "def f(a):\n",
    "    m.update_weights(deepcopy(a))\n",
    "    return(-m.percentage_pruned)\n",
    "\n",
    "def g(a):\n",
    "    m.update_weights(deepcopy(a))\n",
    "    return(m.evaluate_pruned())\n",
    "\n",
    "first_center = OptimGSCS.random_weights(m.current_weights, f, g)"
   ]
  },
  {
   "cell_type": "code",
   "execution_count": null,
   "id": "ac0abd78",
   "metadata": {},
   "outputs": [
    {
     "name": "stdout",
     "output_type": "stream",
     "text": [
      "0.9145 -0.098\n",
      "\n",
      "50 0.8753 -0.197\n",
      "50 0.8703 -0.195\n",
      "\n",
      "100 0.8729 -0.2\n",
      "100 0.8703 -0.195\n",
      "\n",
      "150 0.8764 -0.201\n",
      "150 0.8703 -0.195\n",
      "\n",
      "200 0.8727 -0.206\n",
      "200 0.8736 -0.203\n",
      "\n",
      "250 0.874 -0.212\n",
      "250 0.8711 -0.211\n",
      "\n",
      "300 0.8702 -0.234\n",
      "300 0.8711 -0.233\n",
      "\n",
      "350 0.871 -0.24\n",
      "350 0.871 -0.24\n",
      "\n",
      "400 0.87 -0.241\n",
      "400 0.871 -0.24\n",
      "\n",
      "450 0.87 -0.241\n",
      "450 0.871 -0.24\n",
      "\n",
      "500 0.87 -0.241\n",
      "500 0.871 -0.24\n"
     ]
    }
   ],
   "source": [
    "reload(OptimGSCS)\n",
    "print(first_center.performance, first_center.norm)\n",
    "experience = OptimGSCS.serie_random_weights(tolerance=0.87, center=first_center, multiple_dimension=True)\n",
    "repeat = 0\n",
    "logging.info(\" | \".join([str(\"repeat\"), str(\"experience.min_weight.performance\"), str(\"experience.min_weight.norm\")]))\n",
    "logging.info(\" | \".join([str(repeat), str(experience.min_weight.performance), str(experience.min_weight.norm)]))\n",
    "min_norm = first_center.norm\n",
    "while repeat <1000:\n",
    "    repeat +=1\n",
    "    experience.extend()\n",
    "    logging.info(\" | \".join([str(repeat), str(experience.min_weight.performance), str(experience.min_weight.norm)]))\n",
    "    if not (repeat % 50):\n",
    "        print()\n",
    "        print(repeat, experience.min_weight.performance, experience.min_weight.norm)\n",
    "        print(repeat, experience.last_center_gs.performance, experience.last_center_gs.norm)        "
   ]
  },
  {
   "cell_type": "code",
   "execution_count": null,
   "id": "ebba87d4",
   "metadata": {},
   "outputs": [],
   "source": [
    "repeat_list, performance_list, norm_list = [], [], []\n",
    "for line in open(log_file).readlines():\n",
    "    if 'repeat' in line:\n",
    "        continue\n",
    "    line_s = line[10:].split(' | ')\n",
    "    repeat_list.append(int(line_s[0]))\n",
    "    performance_list.append(float(line_s[1]))\n",
    "    norm_list.append(float(line_s[2]))"
   ]
  },
  {
   "cell_type": "code",
   "execution_count": null,
   "id": "730b94b5",
   "metadata": {},
   "outputs": [],
   "source": [
    "plt.xlabel('# steps')\n",
    "plt.ylabel('% pruned')\n",
    "plt.plot(repeat_list, -np.array(norm_list))"
   ]
  },
  {
   "cell_type": "code",
   "execution_count": null,
   "id": "51db0135",
   "metadata": {},
   "outputs": [],
   "source": [
    "plt.xlabel('# steps')\n",
    "plt.ylabel('Performance')\n",
    "plt.plot(repeat_list[:400], performance_list[:400])"
   ]
  },
  {
   "cell_type": "code",
   "execution_count": null,
   "id": "79721216",
   "metadata": {},
   "outputs": [],
   "source": [
    "steps = list(range(len(repeat_list)))[1:]\n",
    "steps_cs = [i for i in steps if i%2]\n",
    "steps_gs = [i for i in steps if not(i%2)]\n",
    "diminution_cs = [int(norm_list[i-1] > norm_list[i]) for i in steps_cs]\n",
    "diminution_gs = [int(norm_list[i-1] > norm_list[i]) for i in steps_gs]"
   ]
  },
  {
   "cell_type": "code",
   "execution_count": null,
   "id": "bc7f52bf",
   "metadata": {},
   "outputs": [],
   "source": [
    "plt.xlabel('step number')\n",
    "plt.ylabel('diminution at step i')\n",
    "plt.plot(steps_ls[:200], diminution_cs[:200],'.')\n",
    "plt.plot(steps_rs[:200], diminution_gs[:200],'.')\n",
    "plt.legend(['GS','CS'])"
   ]
  },
  {
   "cell_type": "code",
   "execution_count": null,
   "id": "e729e21b",
   "metadata": {},
   "outputs": [],
   "source": []
  }
 ],
 "metadata": {
  "kernelspec": {
   "display_name": "Python [conda env:base] *",
   "language": "python",
   "name": "conda-base-py"
  },
  "language_info": {
   "codemirror_mode": {
    "name": "ipython",
    "version": 3
   },
   "file_extension": ".py",
   "mimetype": "text/x-python",
   "name": "python",
   "nbconvert_exporter": "python",
   "pygments_lexer": "ipython3",
   "version": "3.12.7"
  }
 },
 "nbformat": 4,
 "nbformat_minor": 5
}
